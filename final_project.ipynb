{
 "cells": [
  {
   "cell_type": "markdown",
   "id": "5294094f-c89b-44c7-9e46-60c0e50cd3d6",
   "metadata": {},
   "source": [
    "### DSCI Final Project\n",
    "Group 008 - 38: Cove Beaven, Sydney Blackwell, Talia Chan, Ryan Han"
   ]
  },
  {
   "cell_type": "markdown",
   "id": "780f854c-a7e2-4492-9ab2-e2bdd990771d",
   "metadata": {},
   "source": [
    "### Introduction"
   ]
  },
  {
   "cell_type": "markdown",
   "id": "f4d7f843-26fe-4fce-8955-a5d33b7a189f",
   "metadata": {},
   "source": [
    "### Methods and Results"
   ]
  },
  {
   "cell_type": "markdown",
   "id": "ba44e4da-4ec9-49ac-97c2-c26acdfa0313",
   "metadata": {},
   "source": [
    "### Discussion"
   ]
  },
  {
   "cell_type": "markdown",
   "id": "331e3833-e7c2-43ef-8ed1-2447651e5b04",
   "metadata": {},
   "source": [
    "### References"
   ]
  },
  {
   "cell_type": "code",
   "execution_count": null,
   "id": "1f73d325-0ab2-4b84-adf3-12f7e9817206",
   "metadata": {},
   "outputs": [],
   "source": []
  }
 ],
 "metadata": {
  "kernelspec": {
   "display_name": "Python 3 (ipykernel)",
   "language": "python",
   "name": "python3"
  },
  "language_info": {
   "codemirror_mode": {
    "name": "ipython",
    "version": 3
   },
   "file_extension": ".py",
   "mimetype": "text/x-python",
   "name": "python",
   "nbconvert_exporter": "python",
   "pygments_lexer": "ipython3",
   "version": "3.11.9"
  }
 },
 "nbformat": 4,
 "nbformat_minor": 5
}
